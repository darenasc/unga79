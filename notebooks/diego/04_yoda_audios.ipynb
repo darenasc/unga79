{
 "cells": [
  {
   "cell_type": "code",
   "execution_count": 3,
   "metadata": {},
   "outputs": [],
   "source": [
    "from unga79.config import ROOT_DIR"
   ]
  },
  {
   "cell_type": "markdown",
   "metadata": {},
   "source": [
    "- Takes a list of the Yoda text generated per country\n",
    "- Calls a Text-To-Speech model\n",
    "  - Uses Carl Sagan's voice\n",
    "\n",
    "```bash\n",
    "f5-tts_infer-cli \\\n",
    "  --model \"F5-TTS\" \\\n",
    "  --ref_audio \"/Users/darenasc/projects/tts/F5-TTS/src/f5_tts/infer/examples/sagan/Sagan.m4a\" \\\n",
    "  --ref_text \"From this distant vantage point, the earth might not seem of any particular interest. But for us, it's different.\" \\\n",
    "  --gen_file \"/Users/darenasc/projects/unga79/output/yoda/text/Chile.txt\" \\\n",
    "  --output_dir \"/Users/darenasc/projects/unga79/app/audio\" \\\n",
    "  --output_file \"Chile_yoda.wav\"\n",
    "```"
   ]
  },
  {
   "cell_type": "code",
   "execution_count": 4,
   "metadata": {},
   "outputs": [
    {
     "name": "stdout",
     "output_type": "stream",
     "text": [
      "193 audios.\n"
     ]
    }
   ],
   "source": [
    "files = list(\n",
    "    [\n",
    "        x\n",
    "        for x in (ROOT_DIR / \"output\" / \"yoda\" / \"text\").glob(\"**/*\")\n",
    "        if x.suffix == \".txt\"\n",
    "    ]\n",
    ")\n",
    "\n",
    "command = '''f5-tts_infer-cli \\\\\n",
    "--model \"F5-TTS\" \\\\\n",
    "--ref_audio \"/Users/darenasc/projects/tts/F5-TTS/src/f5_tts/infer/examples/sagan/Sagan.m4a\" \\\\\n",
    "--ref_text \"From this distant vantage point, the earth might not seem of any particular interest. But for us, it's different.\" \\\\\n",
    "--gen_file \"/Users/darenasc/projects/unga79/output/yoda/text/{country}.txt\" \\\\\n",
    "--output_dir \"/Users/darenasc/projects/unga79/app/audio\" \\\\\n",
    "--output_file \"{country}_yoda.wav\"'''\n",
    "\n",
    "\n",
    "print(f\"{len(files)} audios.\")\n",
    "script = []\n",
    "for file in files:\n",
    "    script.append(command.format(country=file.stem))\n",
    "\n",
    "bash_scripts = \" &&\\n\\n\".join(script)"
   ]
  },
  {
   "cell_type": "code",
   "execution_count": 5,
   "metadata": {},
   "outputs": [],
   "source": [
    "with open(ROOT_DIR / \"output\" / \"yoda\" / \"tts_commands.sh\", \"w\") as f:\n",
    "    f.write(\"#!/bin/bash\\n\\n\")\n",
    "    f.write(bash_scripts)\n",
    "# print(bash_scripts)"
   ]
  },
  {
   "cell_type": "code",
   "execution_count": null,
   "metadata": {},
   "outputs": [],
   "source": []
  }
 ],
 "metadata": {
  "kernelspec": {
   "display_name": "unga79-h0N5y5ze",
   "language": "python",
   "name": "python3"
  },
  "language_info": {
   "codemirror_mode": {
    "name": "ipython",
    "version": 3
   },
   "file_extension": ".py",
   "mimetype": "text/x-python",
   "name": "python",
   "nbconvert_exporter": "python",
   "pygments_lexer": "ipython3",
   "version": "3.10.11"
  }
 },
 "nbformat": 4,
 "nbformat_minor": 2
}
