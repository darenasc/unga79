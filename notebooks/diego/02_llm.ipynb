{
 "cells": [
  {
   "cell_type": "code",
   "execution_count": null,
   "metadata": {},
   "outputs": [],
   "source": [
    "import sqlite3\n",
    "import pandas as pd\n",
    "from langchain_community.llms.ollama import Ollama\n",
    "from langchain_core.prompts import ChatPromptTemplate, SystemMessagePromptTemplate\n",
    "from tqdm import tqdm\n",
    "\n",
    "from unga79.config import DATA_DIR\n",
    "\n",
    "DB = DATA_DIR / \"countries.db\""
   ]
  },
  {
   "cell_type": "code",
   "execution_count": null,
   "metadata": {},
   "outputs": [],
   "source": [
    "with sqlite3.connect(DB) as conn:\n",
    "    cursor = conn.cursor()\n",
    "    rows = cursor.execute(\"select * from countries;\").fetchall()\n",
    "    column_names = [x[0] for x in cursor.description]\n",
    "    cursor.close()\n",
    "\n",
    "df = pd.DataFrame(rows, columns=column_names)\n",
    "df.head()"
   ]
  },
  {
   "cell_type": "code",
   "execution_count": null,
   "metadata": {},
   "outputs": [],
   "source": [
    "model = Ollama(model=\"llama3.2\")"
   ]
  },
  {
   "cell_type": "code",
   "execution_count": null,
   "metadata": {},
   "outputs": [],
   "source": [
    "template = \"\"\"You are political analyst. You are helping with speech analysing to find relevant information in the speeches. The following speech was made by an authority of a country in fron the General Assembly of the United Nations. Please answer only based on the content of the speech provided. If you can't find what is asked just reply with \"No information provided\".\n",
    "\n",
    "Please answer the following question only based on the content of the speech provided: \n",
    "    \n",
    "    Speech:\n",
    "    '''{contexto}'''\n",
    "    \n",
    "    Question: {input}\n",
    "    \"\"\"\n",
    "\n",
    "system_prompt = SystemMessagePromptTemplate.from_template(template)\n",
    "chat_prompt = ChatPromptTemplate.from_messages([system_prompt])\n",
    "\n",
    "chain = chat_prompt | model"
   ]
  },
  {
   "cell_type": "code",
   "execution_count": null,
   "metadata": {},
   "outputs": [],
   "source": [
    "speech_example = df[df[\"country\"] == \"Mexico\"][\"full_speech\"].values[0]"
   ]
  },
  {
   "cell_type": "code",
   "execution_count": null,
   "metadata": {},
   "outputs": [],
   "source": [
    "# test\n",
    "result = chain.invoke(\n",
    "    {\n",
    "        \"contexto\": speech_example,\n",
    "        # \"input\": \"\"\"Please summarize the speech.\"\"\",\n",
    "        # \"input\": \"\"\"Identify the countries mentioned in the speech and identify the sentiment as positive, negative, or neutral towards that country. Format: [Country, Sentiment].\"\"\",\n",
    "        # \"input\": \"\"\"Summarize the key threats or challenges discussed in the speech by listing the top 3 risks or concerns in bullet points.\"\"\",\n",
    "        \"input\": \"\"\"Craft a 3-line haiku inspired by the key themes or messages of the speech.\"\"\",\n",
    "    }\n",
    ")\n",
    "\n",
    "print(result)"
   ]
  },
  {
   "cell_type": "code",
   "execution_count": null,
   "metadata": {},
   "outputs": [],
   "source": [
    "update_coutries = \"\"\"UPDATE countries SET haiku = ? where country = ?\"\"\"\n",
    "with sqlite3.connect(DB) as conn:\n",
    "    cursor = conn.cursor()\n",
    "    cursor.execute(update_coutries, (result, \"Mexico\"))\n",
    "    conn.commit()\n",
    "    cursor.close()"
   ]
  },
  {
   "cell_type": "code",
   "execution_count": null,
   "metadata": {},
   "outputs": [],
   "source": [
    "update_coutries = \"\"\"UPDATE countries SET summary = ? where country = ?\"\"\"\n",
    "\n",
    "pbar = tqdm(df.iterrows(), total=df.shape[0])\n",
    "for i, r in pbar:\n",
    "    pbar.set_description(r[\"country\"])\n",
    "    result = chain.invoke(\n",
    "        {\n",
    "            \"contexto\": r[\"full_speech\"],\n",
    "            \"input\": \"\"\"Please summarize the speech.\"\"\",\n",
    "        }\n",
    "    )\n",
    "\n",
    "    with sqlite3.connect(DB) as conn:\n",
    "        cursor = conn.cursor()\n",
    "        cursor.execute(update_coutries, (result, r[\"country\"]))\n",
    "        conn.commit()\n",
    "        cursor.close()"
   ]
  },
  {
   "cell_type": "code",
   "execution_count": null,
   "metadata": {},
   "outputs": [],
   "source": [
    "update_coutries = \"\"\"UPDATE countries SET countries_mentioned = ? where country = ?\"\"\"\n",
    "pbar = tqdm(df.iterrows(), total=df.shape[0])\n",
    "for i, r in pbar:\n",
    "    pbar.set_description(r[\"country\"])\n",
    "    result = chain.invoke(\n",
    "        {\n",
    "            \"contexto\": r[\"full_speech\"],\n",
    "            \"input\": \"\"\"Identify the countries mentioned in the speech and identify the sentiment as positive, negative, or neutral towards that country. Format: [Country, Sentiment].\"\"\",\n",
    "        }\n",
    "    )\n",
    "    with sqlite3.connect(DB) as conn:\n",
    "        cursor = conn.cursor()\n",
    "        cursor.execute(update_coutries, (result, r[\"country\"]))\n",
    "        conn.commit()\n",
    "        cursor.close()"
   ]
  },
  {
   "cell_type": "code",
   "execution_count": null,
   "metadata": {},
   "outputs": [],
   "source": [
    "update_coutries = \"\"\"UPDATE countries SET risks = ? where country = ?\"\"\"\n",
    "pbar = tqdm(df.iterrows(), total=df.shape[0])\n",
    "for i, r in pbar:\n",
    "    pbar.set_description(r[\"country\"])\n",
    "    result = chain.invoke(\n",
    "        {\n",
    "            \"contexto\": r[\"full_speech\"],\n",
    "            \"input\": \"\"\"Summarize the key threats or challenges discussed in the speech by listing the top 3 risks or concerns in bullet points.\"\"\",\n",
    "        }\n",
    "    )\n",
    "    with sqlite3.connect(DB) as conn:\n",
    "        cursor = conn.cursor()\n",
    "        cursor.execute(update_coutries, (result, r[\"country\"]))\n",
    "        conn.commit()\n",
    "        cursor.close()"
   ]
  },
  {
   "cell_type": "code",
   "execution_count": null,
   "metadata": {},
   "outputs": [],
   "source": [
    "update_coutries = \"\"\"UPDATE countries SET haiku = ? where country = ?\"\"\"\n",
    "pbar = tqdm(df.iterrows(), total=df.shape[0])\n",
    "for i, r in pbar:\n",
    "    pbar.set_description(r[\"country\"])\n",
    "    result = chain.invoke(\n",
    "        {\n",
    "            \"contexto\": r[\"full_speech\"],\n",
    "            \"input\": \"\"\"Craft a 3-line haiku inspired by the key themes or messages of the speech.\"\"\",\n",
    "        }\n",
    "    )\n",
    "    with sqlite3.connect(DB) as conn:\n",
    "        cursor = conn.cursor()\n",
    "        cursor.execute(update_coutries, (result, r[\"country\"]))\n",
    "        conn.commit()\n",
    "        cursor.close()"
   ]
  }
 ],
 "metadata": {
  "kernelspec": {
   "display_name": "unga79-h0N5y5ze",
   "language": "python",
   "name": "python3"
  },
  "language_info": {
   "codemirror_mode": {
    "name": "ipython",
    "version": 3
   },
   "file_extension": ".py",
   "mimetype": "text/x-python",
   "name": "python",
   "nbconvert_exporter": "python",
   "pygments_lexer": "ipython3",
   "version": "3.10.11"
  }
 },
 "nbformat": 4,
 "nbformat_minor": 2
}
