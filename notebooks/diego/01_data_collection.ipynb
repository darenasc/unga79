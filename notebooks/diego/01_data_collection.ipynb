{
 "cells": [
  {
   "cell_type": "code",
   "execution_count": null,
   "metadata": {},
   "outputs": [],
   "source": [
    "# import importlib\n",
    "\n",
    "from unga79.config import DATA_DIR\n",
    "from unga79 import data_collection as dc\n",
    "from unga79 import database as dbase\n",
    "\n",
    "db = DATA_DIR / \"countries.db\""
   ]
  },
  {
   "cell_type": "code",
   "execution_count": null,
   "metadata": {},
   "outputs": [],
   "source": [
    "# importlib.reload(dc)\n",
    "# importlib.reload(dbase)"
   ]
  },
  {
   "cell_type": "code",
   "execution_count": null,
   "metadata": {},
   "outputs": [],
   "source": [
    "# Create table `country` if not exists\n",
    "# dbase.drop_country()\n",
    "# dbase.create_db()"
   ]
  },
  {
   "cell_type": "code",
   "execution_count": null,
   "metadata": {},
   "outputs": [],
   "source": [
    "# Download spreasheet with the urls to the speeches\n",
    "df = dc.get_video_url_list()\n",
    "# Download the transcripts using the speeches urls\n",
    "dc.download_all_transcripts(df)"
   ]
  },
  {
   "cell_type": "code",
   "execution_count": null,
   "metadata": {},
   "outputs": [],
   "source": [
    "# Insert initial data\n",
    "for i, r in df.iterrows():\n",
    "    start, end = dc.get_seconds_from_str(r[\"start\"], r[\"end\"])\n",
    "    corpus = dc.get_corpus_from_file(\n",
    "        country=r[\"country\"], start=start, end=end, path=DATA_DIR / \"2024\"\n",
    "    )\n",
    "    dbase.insert(country=r[\"country\"], url=r[\"url\"], speech=corpus)"
   ]
  },
  {
   "cell_type": "code",
   "execution_count": null,
   "metadata": {},
   "outputs": [],
   "source": [
    "dbase.select_country()"
   ]
  }
 ],
 "metadata": {
  "kernelspec": {
   "display_name": "unga79-h0N5y5ze",
   "language": "python",
   "name": "python3"
  },
  "language_info": {
   "codemirror_mode": {
    "name": "ipython",
    "version": 3
   },
   "file_extension": ".py",
   "mimetype": "text/x-python",
   "name": "python",
   "nbconvert_exporter": "python",
   "pygments_lexer": "ipython3",
   "version": "3.10.11"
  }
 },
 "nbformat": 4,
 "nbformat_minor": 2
}
